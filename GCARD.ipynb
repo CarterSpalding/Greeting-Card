{
 "cells": [
  {
   "cell_type": "code",
   "execution_count": null,
   "metadata": {},
   "outputs": [
    {
     "name": "stdout",
     "output_type": "stream",
     "text": [
      "Requirement already satisfied: pygame in c:\\anaconda3_2020.07\\lib\\site-packages (2.1.2)\n"
     ]
    }
   ],
   "source": [
    "!pip install pygame\n",
    "import pygame \n",
    "pygame.init()\n",
    "\n",
    "pygame.display.set_caption(\"Greeting Card\")\n",
    "\n",
    "WHITE=(255,255,255)\n",
    "RED=(255,0,0)\n",
    "GREEN=(0,255,0)\n",
    "\n",
    "\n",
    "surface=pygame.display.set_mode((500,500))\n",
    "\n",
    "surface.fill(RED)\n",
    "\n",
    "font=pygame.font.Font(\"freesansbold.ttf\", 50)\n",
    "text=font.render(\"Merry Christmas!\", True, GREEN, WHITE)\n",
    "textRect=text.get_rect()\n",
    "X=500\n",
    "y=350\n",
    "textRect.center=(X/2, y/2)\n",
    "\n",
    "from pygame import mixer\n",
    "\n",
    "mixer.init()\n",
    "\n",
    "mixer.music.load(\"we-wish-you-a-merry-christmas-126685.mp3\")\n",
    "\n",
    "mixer.music.set_volume(0.7) \n",
    "\n",
    "mixer.music.play()\n",
    "\n",
    "im=pygame.image.load(\"download.jfif\").convert()\n",
    "\n",
    "resized_image=pygame.transform.scale(im, (300,200))\n",
    "\n",
    "x=100\n",
    "y=250 \n",
    "\n",
    "surface.blit(resized_image, (x,y))\n",
    "\n",
    "pygame.display.flip()\n",
    "active=True\n",
    "while active:\n",
    "    surface.blit(text,textRect)\n",
    "    for event in pygame.event.get():\n",
    "        if event.type==pygame.QUIT:\n",
    "            active=False\n",
    "    pygame.display.update()\n",
    "pygame.quit()"
   ]
  },
  {
   "cell_type": "code",
   "execution_count": null,
   "metadata": {},
   "outputs": [],
   "source": []
  }
 ],
 "metadata": {
  "kernelspec": {
   "display_name": "Python 3",
   "language": "python",
   "name": "python3"
  },
  "language_info": {
   "codemirror_mode": {
    "name": "ipython",
    "version": 3
   },
   "file_extension": ".py",
   "mimetype": "text/x-python",
   "name": "python",
   "nbconvert_exporter": "python",
   "pygments_lexer": "ipython3",
   "version": "3.8.3"
  }
 },
 "nbformat": 4,
 "nbformat_minor": 4
}
