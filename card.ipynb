{
 "cells": [
  {
   "cell_type": "code",
   "execution_count": 3,
   "id": "6c4b84bf",
   "metadata": {},
   "outputs": [
    {
     "name": "stdout",
     "output_type": "stream",
     "text": [
      "Requirement already satisfied: pygame in c:\\users\\cspalding2\\anaconda3\\lib\\site-packages (2.1.2)\n"
     ]
    },
    {
     "ename": "error",
     "evalue": "No file 'we-wish-you-a-merry-christmas-126685.mp3' found in working directory 'C:\\Users\\cspalding2'.",
     "output_type": "error",
     "traceback": [
      "\u001b[1;31m---------------------------------------------------------------------------\u001b[0m",
      "\u001b[1;31merror\u001b[0m                                     Traceback (most recent call last)",
      "\u001b[1;32m~\\AppData\\Local\\Temp\\ipykernel_9176\\1771296027.py\u001b[0m in \u001b[0;36m<module>\u001b[1;34m\u001b[0m\n\u001b[0;32m     24\u001b[0m \u001b[0mmixer\u001b[0m\u001b[1;33m.\u001b[0m\u001b[0minit\u001b[0m\u001b[1;33m(\u001b[0m\u001b[1;33m)\u001b[0m\u001b[1;33m\u001b[0m\u001b[1;33m\u001b[0m\u001b[0m\n\u001b[0;32m     25\u001b[0m \u001b[1;33m\u001b[0m\u001b[0m\n\u001b[1;32m---> 26\u001b[1;33m \u001b[0mmixer\u001b[0m\u001b[1;33m.\u001b[0m\u001b[0mmusic\u001b[0m\u001b[1;33m.\u001b[0m\u001b[0mload\u001b[0m\u001b[1;33m(\u001b[0m\u001b[1;34m\"we-wish-you-a-merry-christmas-126685.mp3\"\u001b[0m\u001b[1;33m)\u001b[0m\u001b[1;33m\u001b[0m\u001b[1;33m\u001b[0m\u001b[0m\n\u001b[0m\u001b[0;32m     27\u001b[0m \u001b[1;33m\u001b[0m\u001b[0m\n\u001b[0;32m     28\u001b[0m \u001b[0mmixer\u001b[0m\u001b[1;33m.\u001b[0m\u001b[0mmusic\u001b[0m\u001b[1;33m.\u001b[0m\u001b[0mset_volume\u001b[0m\u001b[1;33m(\u001b[0m\u001b[1;36m0.7\u001b[0m\u001b[1;33m)\u001b[0m\u001b[1;33m\u001b[0m\u001b[1;33m\u001b[0m\u001b[0m\n",
      "\u001b[1;31merror\u001b[0m: No file 'we-wish-you-a-merry-christmas-126685.mp3' found in working directory 'C:\\Users\\cspalding2'."
     ]
    }
   ],
   "source": [
    "!pip install pygame\n",
    "import pygame \n",
    "pygame.init()\n",
    "\n",
    "WHITE=(255,255,255)\n",
    "RED=(255,0,0)\n",
    "GREEN=(0,255,0)\n",
    "\n",
    "\n",
    "surface=pygame.display.set_mode((500,500))\n",
    "\n",
    "surface.fill(RED)\n",
    "\n",
    "font=pygame.font.Font(\"freesansbold.ttf\", 50)\n",
    "text=font.render(\"Merry Christmas!\", True, GREEN, WHITE)\n",
    "textRect=text.get_rect()\n",
    "X=500\n",
    "y=350\n",
    "textRect.center=(X/2, y/2)\n",
    "\n",
    "from pygame import mixer\n",
    "\n",
    "mixer.init()\n",
    "\n",
    "mixer.music.load(\"we-wish-you-a-merry-christmas-126685.mp3\")\n",
    "\n",
    "mixer.music.set_volume(0.7) \n",
    "\n",
    "mixer.music.play()\n",
    "\n",
    "im=pygame.image.load(\"img.jpg\").convert()\n",
    "\n",
    "resized_image=pygame.transform.scale(im, (300,200))\n",
    "\n",
    "x=100\n",
    "y=100 \n",
    "\n",
    "surface.blit(resized_image, (x,y))\n",
    "\n",
    "pygame.display.flip()\n",
    "active=True\n",
    "while active:\n",
    "    surface.blit(text,textRect)\n",
    "    for event in pygame.event.get():\n",
    "        if event.type==pygame.QUIT:\n",
    "            active=False\n",
    "    pygame.display.update()\n",
    "pygame.quit()"
   ]
  },
  {
   "cell_type": "code",
   "execution_count": null,
   "id": "97d7d333",
   "metadata": {},
   "outputs": [],
   "source": []
  }
 ],
 "metadata": {
  "kernelspec": {
   "display_name": "Python 3 (ipykernel)",
   "language": "python",
   "name": "python3"
  },
  "language_info": {
   "codemirror_mode": {
    "name": "ipython",
    "version": 3
   },
   "file_extension": ".py",
   "mimetype": "text/x-python",
   "name": "python",
   "nbconvert_exporter": "python",
   "pygments_lexer": "ipython3",
   "version": "3.9.13"
  }
 },
 "nbformat": 4,
 "nbformat_minor": 5
}
